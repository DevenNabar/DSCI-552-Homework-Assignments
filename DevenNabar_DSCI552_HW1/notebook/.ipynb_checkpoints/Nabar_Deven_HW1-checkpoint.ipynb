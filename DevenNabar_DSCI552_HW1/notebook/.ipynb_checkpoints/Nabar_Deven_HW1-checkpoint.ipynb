{
 "cells": [
  {
   "cell_type": "markdown",
   "metadata": {},
   "source": [
    "<h1>Nabar_Deven_HW1</h1>\n",
    "<hr>\n",
    "<h2>Name - Deven Parag Nabar <br> Github Username - DevenNabar <br> USCID: 7229446568 </h2>\n",
    "<br><hr>\n",
    "<h2>Vertebral Column Data</h2>\n",
    "<hr>\n"
   ]
  },
  {
   "cell_type": "markdown",
   "metadata": {},
   "source": [
    "### (a) Download Data"
   ]
  },
  {
   "cell_type": "markdown",
   "metadata": {},
   "source": [
    "Package imports"
   ]
  },
  {
   "cell_type": "code",
   "execution_count": 1,
   "metadata": {},
   "outputs": [],
   "source": [
    "import pandas as pd\n",
    "import matplotlib.pyplot as plt\n",
    "import seaborn as sns"
   ]
  },
  {
   "cell_type": "code",
   "execution_count": 2,
   "metadata": {},
   "outputs": [],
   "source": [
    "import warnings\n",
    "warnings.filterwarnings('ignore')"
   ]
  },
  {
   "cell_type": "markdown",
   "metadata": {},
   "source": [
    "Get the Vertebral Column Data Set"
   ]
  },
  {
   "cell_type": "code",
   "execution_count": 3,
   "metadata": {},
   "outputs": [],
   "source": [
    "PATH = '../data/vertebral_column_data/column_2C.dat'"
   ]
  },
  {
   "cell_type": "code",
   "execution_count": 4,
   "metadata": {},
   "outputs": [],
   "source": [
    "df = pd.read_csv(PATH, sep='\\s+', header=None)\n",
    "\n",
    "# Assign column names to the data set columns\n",
    "df.columns = ['pelvic_incidence', 'pelvic_tilt', 'lumbar_lordosis_angle', 'sacral_slope', 'pelvic_radius', 'grade_of_spondylolisthesis', 'class_label']"
   ]
  },
  {
   "cell_type": "code",
   "execution_count": 5,
   "metadata": {},
   "outputs": [
    {
     "data": {
      "text/html": [
       "<div>\n",
       "<style scoped>\n",
       "    .dataframe tbody tr th:only-of-type {\n",
       "        vertical-align: middle;\n",
       "    }\n",
       "\n",
       "    .dataframe tbody tr th {\n",
       "        vertical-align: top;\n",
       "    }\n",
       "\n",
       "    .dataframe thead th {\n",
       "        text-align: right;\n",
       "    }\n",
       "</style>\n",
       "<table border=\"1\" class=\"dataframe\">\n",
       "  <thead>\n",
       "    <tr style=\"text-align: right;\">\n",
       "      <th></th>\n",
       "      <th>pelvic_incidence</th>\n",
       "      <th>pelvic_tilt</th>\n",
       "      <th>lumbar_lordosis_angle</th>\n",
       "      <th>sacral_slope</th>\n",
       "      <th>pelvic_radius</th>\n",
       "      <th>grade_of_spondylolisthesis</th>\n",
       "      <th>class_label</th>\n",
       "    </tr>\n",
       "  </thead>\n",
       "  <tbody>\n",
       "    <tr>\n",
       "      <th>0</th>\n",
       "      <td>63.03</td>\n",
       "      <td>22.55</td>\n",
       "      <td>39.61</td>\n",
       "      <td>40.48</td>\n",
       "      <td>98.67</td>\n",
       "      <td>-0.25</td>\n",
       "      <td>AB</td>\n",
       "    </tr>\n",
       "    <tr>\n",
       "      <th>1</th>\n",
       "      <td>39.06</td>\n",
       "      <td>10.06</td>\n",
       "      <td>25.02</td>\n",
       "      <td>29.00</td>\n",
       "      <td>114.41</td>\n",
       "      <td>4.56</td>\n",
       "      <td>AB</td>\n",
       "    </tr>\n",
       "    <tr>\n",
       "      <th>2</th>\n",
       "      <td>68.83</td>\n",
       "      <td>22.22</td>\n",
       "      <td>50.09</td>\n",
       "      <td>46.61</td>\n",
       "      <td>105.99</td>\n",
       "      <td>-3.53</td>\n",
       "      <td>AB</td>\n",
       "    </tr>\n",
       "    <tr>\n",
       "      <th>3</th>\n",
       "      <td>69.30</td>\n",
       "      <td>24.65</td>\n",
       "      <td>44.31</td>\n",
       "      <td>44.64</td>\n",
       "      <td>101.87</td>\n",
       "      <td>11.21</td>\n",
       "      <td>AB</td>\n",
       "    </tr>\n",
       "    <tr>\n",
       "      <th>4</th>\n",
       "      <td>49.71</td>\n",
       "      <td>9.65</td>\n",
       "      <td>28.32</td>\n",
       "      <td>40.06</td>\n",
       "      <td>108.17</td>\n",
       "      <td>7.92</td>\n",
       "      <td>AB</td>\n",
       "    </tr>\n",
       "    <tr>\n",
       "      <th>...</th>\n",
       "      <td>...</td>\n",
       "      <td>...</td>\n",
       "      <td>...</td>\n",
       "      <td>...</td>\n",
       "      <td>...</td>\n",
       "      <td>...</td>\n",
       "      <td>...</td>\n",
       "    </tr>\n",
       "    <tr>\n",
       "      <th>305</th>\n",
       "      <td>47.90</td>\n",
       "      <td>13.62</td>\n",
       "      <td>36.00</td>\n",
       "      <td>34.29</td>\n",
       "      <td>117.45</td>\n",
       "      <td>-4.25</td>\n",
       "      <td>NO</td>\n",
       "    </tr>\n",
       "    <tr>\n",
       "      <th>306</th>\n",
       "      <td>53.94</td>\n",
       "      <td>20.72</td>\n",
       "      <td>29.22</td>\n",
       "      <td>33.22</td>\n",
       "      <td>114.37</td>\n",
       "      <td>-0.42</td>\n",
       "      <td>NO</td>\n",
       "    </tr>\n",
       "    <tr>\n",
       "      <th>307</th>\n",
       "      <td>61.45</td>\n",
       "      <td>22.69</td>\n",
       "      <td>46.17</td>\n",
       "      <td>38.75</td>\n",
       "      <td>125.67</td>\n",
       "      <td>-2.71</td>\n",
       "      <td>NO</td>\n",
       "    </tr>\n",
       "    <tr>\n",
       "      <th>308</th>\n",
       "      <td>45.25</td>\n",
       "      <td>8.69</td>\n",
       "      <td>41.58</td>\n",
       "      <td>36.56</td>\n",
       "      <td>118.55</td>\n",
       "      <td>0.21</td>\n",
       "      <td>NO</td>\n",
       "    </tr>\n",
       "    <tr>\n",
       "      <th>309</th>\n",
       "      <td>33.84</td>\n",
       "      <td>5.07</td>\n",
       "      <td>36.64</td>\n",
       "      <td>28.77</td>\n",
       "      <td>123.95</td>\n",
       "      <td>-0.20</td>\n",
       "      <td>NO</td>\n",
       "    </tr>\n",
       "  </tbody>\n",
       "</table>\n",
       "<p>310 rows × 7 columns</p>\n",
       "</div>"
      ],
      "text/plain": [
       "     pelvic_incidence  pelvic_tilt  lumbar_lordosis_angle  sacral_slope  \\\n",
       "0               63.03        22.55                  39.61         40.48   \n",
       "1               39.06        10.06                  25.02         29.00   \n",
       "2               68.83        22.22                  50.09         46.61   \n",
       "3               69.30        24.65                  44.31         44.64   \n",
       "4               49.71         9.65                  28.32         40.06   \n",
       "..                ...          ...                    ...           ...   \n",
       "305             47.90        13.62                  36.00         34.29   \n",
       "306             53.94        20.72                  29.22         33.22   \n",
       "307             61.45        22.69                  46.17         38.75   \n",
       "308             45.25         8.69                  41.58         36.56   \n",
       "309             33.84         5.07                  36.64         28.77   \n",
       "\n",
       "     pelvic_radius  grade_of_spondylolisthesis class_label  \n",
       "0            98.67                       -0.25          AB  \n",
       "1           114.41                        4.56          AB  \n",
       "2           105.99                       -3.53          AB  \n",
       "3           101.87                       11.21          AB  \n",
       "4           108.17                        7.92          AB  \n",
       "..             ...                         ...         ...  \n",
       "305         117.45                       -4.25          NO  \n",
       "306         114.37                       -0.42          NO  \n",
       "307         125.67                       -2.71          NO  \n",
       "308         118.55                        0.21          NO  \n",
       "309         123.95                       -0.20          NO  \n",
       "\n",
       "[310 rows x 7 columns]"
      ]
     },
     "execution_count": 5,
     "metadata": {},
     "output_type": "execute_result"
    }
   ],
   "source": [
    "df"
   ]
  },
  {
   "cell_type": "code",
   "execution_count": 6,
   "metadata": {},
   "outputs": [],
   "source": [
    "#Encoding labels\n",
    "df.loc[df['class_label']=='NO','class_label']=0\n",
    "df.loc[df['class_label']=='AB','class_label']=1"
   ]
  },
  {
   "cell_type": "markdown",
   "metadata": {},
   "source": [
    "### (b) Pre-Processing and Exploratory Data Analysis"
   ]
  },
  {
   "cell_type": "markdown",
   "metadata": {},
   "source": [
    "#### i. Scatterplots"
   ]
  },
  {
   "cell_type": "code",
   "execution_count": 7,
   "metadata": {},
   "outputs": [
    {
     "data": {
      "image/png": "[encoded data removed]",
      "text/plain": [
       "<Figure size 1440x720 with 36 Axes>"
      ]
     },
     "metadata": {
      "needs_background": "light"
     },
     "output_type": "display_data"
    }
   ],
   "source": [
    "#Scatterplots\n",
    "\n",
    "colors = {0:'blue', 1:'orange'}\n",
    "plt.figure(figsize=(20,10))\n",
    "for i, feature1 in enumerate(df.columns[:-1]):\n",
    "    for j, feature2 in enumerate(df.columns[:-1]):\n",
    "        plt.subplot(6, 6, i*6+j+1)\n",
    "        for k, (key, color) in enumerate(colors.items()):\n",
    "            plt.scatter(df[df['class_label'] == key][feature1], df[df['class_label'] == key][feature2], c=color, s=10)\n",
    "        if i == 0:\n",
    "            plt.title(feature2)\n",
    "        if j == 0:\n",
    "            plt.ylabel(feature1)"
   ]
  },
  {
   "cell_type": "markdown",
   "metadata": {},
   "source": [
    "#### ii. Boxplots"
   ]
  },
  {
   "cell_type": "code",
   "execution_count": 8,
   "metadata": {},
   "outputs": [
    {
     "data": {
      "image/png": "[encoded data removed]",
      "text/plain": [
       "<Figure size 432x288 with 1 Axes>"
      ]
     },
     "metadata": {
      "needs_background": "light"
     },
     "output_type": "display_data"
    }
   ],
   "source": [
    "#Boxplots\n",
    "\n",
    "sns.boxplot(x=\"class_label\", y=\"pelvic_incidence\", data=df)\n",
    "plt.show()"
   ]
  },
  {
   "cell_type": "code",
   "execution_count": 9,
   "metadata": {},
   "outputs": [
    {
     "data": {
      "image/png": "[encoded data removed]",
      "text/plain": [
       "<Figure size 432x288 with 1 Axes>"
      ]
     },
     "metadata": {
      "needs_background": "light"
     },
     "output_type": "display_data"
    }
   ],
   "source": [
    "sns.boxplot(x=\"class_label\", y=\"pelvic_tilt\", data=df)\n",
    "plt.show()"
   ]
  },
  {
   "cell_type": "code",
   "execution_count": 10,
   "metadata": {},
   "outputs": [
    {
     "data": {
      "image/png": "[encoded data removed]",
      "text/plain": [
       "<Figure size 432x288 with 1 Axes>"
      ]
     },
     "metadata": {
      "needs_background": "light"
     },
     "output_type": "display_data"
    }
   ],
   "source": [
    "sns.boxplot(x=\"class_label\", y=\"pelvic_radius\", data=df)\n",
    "plt.show()\n"
   ]
  },
  {
   "cell_type": "code",
   "execution_count": 11,
   "metadata": {},
   "outputs": [
    {
     "data": {
      "image/png": "[encoded data removed]",
      "text/plain": [
       "<Figure size 432x288 with 1 Axes>"
      ]
     },
     "metadata": {
      "needs_background": "light"
     },
     "output_type": "display_data"
    }
   ],
   "source": [
    "sns.boxplot(x=\"class_label\", y=\"sacral_slope\", data=df)\n",
    "plt.show()"
   ]
  },
  {
   "cell_type": "code",
   "execution_count": 12,
   "metadata": {},
   "outputs": [
    {
     "data": {
      "image/png": "[encoded data removed]",
      "text/plain": [
       "<Figure size 432x288 with 1 Axes>"
      ]
     },
     "metadata": {
      "needs_background": "light"
     },
     "output_type": "display_data"
    }
   ],
   "source": [
    "sns.boxplot(x=\"class_label\", y=\"lumbar_lordosis_angle\", data=df)\n",
    "plt.show()"
   ]
  },
  {
   "cell_type": "code",
   "execution_count": 13,
   "metadata": {},
   "outputs": [
    {
     "data": {
      "image/png": "[encoded data removed]",
      "text/plain": [
       "<Figure size 432x288 with 1 Axes>"
      ]
     },
     "metadata": {
      "needs_background": "light"
     },
     "output_type": "display_data"
    }
   ],
   "source": [
    "sns.boxplot(x=\"class_label\", y=\"grade_of_spondylolisthesis\", data=df)\n",
    "plt.show()"
   ]
  },
  {
   "cell_type": "markdown",
   "metadata": {},
   "source": [
    "#### iii. Split Data Set"
   ]
  },
  {
   "cell_type": "code",
   "execution_count": 14,
   "metadata": {},
   "outputs": [],
   "source": [
    "#Creating Training data from dataframe\n",
    "first_half_training = df[df['class_label']==0].iloc[:70]\n",
    "second_half_training = df[df['class_label']==1].iloc[:140]\n",
    "\n",
    "first_half_test = df[df['class_label']==0].iloc[70:]\n",
    "second_half_test = df[df['class_label']==1].iloc[140:]\n",
    "\n",
    "\n",
    "training_data = pd.concat([first_half_training,second_half_training])\n",
    "test_data = pd.concat([first_half_test,second_half_test])"
   ]
  },
  {
   "cell_type": "code",
   "execution_count": 15,
   "metadata": {},
   "outputs": [
    {
     "data": {
      "text/html": [
       "<div>\n",
       "<style scoped>\n",
       "    .dataframe tbody tr th:only-of-type {\n",
       "        vertical-align: middle;\n",
       "    }\n",
       "\n",
       "    .dataframe tbody tr th {\n",
       "        vertical-align: top;\n",
       "    }\n",
       "\n",
       "    .dataframe thead th {\n",
       "        text-align: right;\n",
       "    }\n",
       "</style>\n",
       "<table border=\"1\" class=\"dataframe\">\n",
       "  <thead>\n",
       "    <tr style=\"text-align: right;\">\n",
       "      <th></th>\n",
       "      <th>pelvic_incidence</th>\n",
       "      <th>pelvic_tilt</th>\n",
       "      <th>lumbar_lordosis_angle</th>\n",
       "      <th>sacral_slope</th>\n",
       "      <th>pelvic_radius</th>\n",
       "      <th>grade_of_spondylolisthesis</th>\n",
       "      <th>class_label</th>\n",
       "    </tr>\n",
       "  </thead>\n",
       "  <tbody>\n",
       "    <tr>\n",
       "      <th>210</th>\n",
       "      <td>38.51</td>\n",
       "      <td>16.96</td>\n",
       "      <td>35.11</td>\n",
       "      <td>21.54</td>\n",
       "      <td>127.63</td>\n",
       "      <td>7.99</td>\n",
       "      <td>0</td>\n",
       "    </tr>\n",
       "    <tr>\n",
       "      <th>211</th>\n",
       "      <td>54.92</td>\n",
       "      <td>18.97</td>\n",
       "      <td>51.60</td>\n",
       "      <td>35.95</td>\n",
       "      <td>125.85</td>\n",
       "      <td>2.00</td>\n",
       "      <td>0</td>\n",
       "    </tr>\n",
       "    <tr>\n",
       "      <th>212</th>\n",
       "      <td>44.36</td>\n",
       "      <td>8.95</td>\n",
       "      <td>46.90</td>\n",
       "      <td>35.42</td>\n",
       "      <td>129.22</td>\n",
       "      <td>4.99</td>\n",
       "      <td>0</td>\n",
       "    </tr>\n",
       "    <tr>\n",
       "      <th>213</th>\n",
       "      <td>48.32</td>\n",
       "      <td>17.45</td>\n",
       "      <td>48.00</td>\n",
       "      <td>30.87</td>\n",
       "      <td>128.98</td>\n",
       "      <td>-0.91</td>\n",
       "      <td>0</td>\n",
       "    </tr>\n",
       "    <tr>\n",
       "      <th>214</th>\n",
       "      <td>45.70</td>\n",
       "      <td>10.66</td>\n",
       "      <td>42.58</td>\n",
       "      <td>35.04</td>\n",
       "      <td>130.18</td>\n",
       "      <td>-3.39</td>\n",
       "      <td>0</td>\n",
       "    </tr>\n",
       "    <tr>\n",
       "      <th>...</th>\n",
       "      <td>...</td>\n",
       "      <td>...</td>\n",
       "      <td>...</td>\n",
       "      <td>...</td>\n",
       "      <td>...</td>\n",
       "      <td>...</td>\n",
       "      <td>...</td>\n",
       "    </tr>\n",
       "    <tr>\n",
       "      <th>275</th>\n",
       "      <td>67.29</td>\n",
       "      <td>16.72</td>\n",
       "      <td>51.00</td>\n",
       "      <td>50.57</td>\n",
       "      <td>137.59</td>\n",
       "      <td>4.96</td>\n",
       "      <td>0</td>\n",
       "    </tr>\n",
       "    <tr>\n",
       "      <th>276</th>\n",
       "      <td>51.33</td>\n",
       "      <td>13.63</td>\n",
       "      <td>33.26</td>\n",
       "      <td>37.69</td>\n",
       "      <td>131.31</td>\n",
       "      <td>1.79</td>\n",
       "      <td>0</td>\n",
       "    </tr>\n",
       "    <tr>\n",
       "      <th>277</th>\n",
       "      <td>65.76</td>\n",
       "      <td>13.21</td>\n",
       "      <td>44.00</td>\n",
       "      <td>52.55</td>\n",
       "      <td>129.39</td>\n",
       "      <td>-1.98</td>\n",
       "      <td>0</td>\n",
       "    </tr>\n",
       "    <tr>\n",
       "      <th>278</th>\n",
       "      <td>40.41</td>\n",
       "      <td>-1.33</td>\n",
       "      <td>30.98</td>\n",
       "      <td>41.74</td>\n",
       "      <td>119.34</td>\n",
       "      <td>-6.17</td>\n",
       "      <td>0</td>\n",
       "    </tr>\n",
       "    <tr>\n",
       "      <th>279</th>\n",
       "      <td>48.80</td>\n",
       "      <td>18.02</td>\n",
       "      <td>52.00</td>\n",
       "      <td>30.78</td>\n",
       "      <td>139.15</td>\n",
       "      <td>10.44</td>\n",
       "      <td>0</td>\n",
       "    </tr>\n",
       "  </tbody>\n",
       "</table>\n",
       "<p>70 rows × 7 columns</p>\n",
       "</div>"
      ],
      "text/plain": [
       "     pelvic_incidence  pelvic_tilt  lumbar_lordosis_angle  sacral_slope  \\\n",
       "210             38.51        16.96                  35.11         21.54   \n",
       "211             54.92        18.97                  51.60         35.95   \n",
       "212             44.36         8.95                  46.90         35.42   \n",
       "213             48.32        17.45                  48.00         30.87   \n",
       "214             45.70        10.66                  42.58         35.04   \n",
       "..                ...          ...                    ...           ...   \n",
       "275             67.29        16.72                  51.00         50.57   \n",
       "276             51.33        13.63                  33.26         37.69   \n",
       "277             65.76        13.21                  44.00         52.55   \n",
       "278             40.41        -1.33                  30.98         41.74   \n",
       "279             48.80        18.02                  52.00         30.78   \n",
       "\n",
       "     pelvic_radius  grade_of_spondylolisthesis class_label  \n",
       "210         127.63                        7.99           0  \n",
       "211         125.85                        2.00           0  \n",
       "212         129.22                        4.99           0  \n",
       "213         128.98                       -0.91           0  \n",
       "214         130.18                       -3.39           0  \n",
       "..             ...                         ...         ...  \n",
       "275         137.59                        4.96           0  \n",
       "276         131.31                        1.79           0  \n",
       "277         129.39                       -1.98           0  \n",
       "278         119.34                       -6.17           0  \n",
       "279         139.15                       10.44           0  \n",
       "\n",
       "[70 rows x 7 columns]"
      ]
     },
     "execution_count": 15,
     "metadata": {},
     "output_type": "execute_result"
    }
   ],
   "source": [
    "first_half_training"
   ]
  },
  {
   "cell_type": "code",
   "execution_count": 16,
   "metadata": {},
   "outputs": [
    {
     "data": {
      "text/html": [
       "<div>\n",
       "<style scoped>\n",
       "    .dataframe tbody tr th:only-of-type {\n",
       "        vertical-align: middle;\n",
       "    }\n",
       "\n",
       "    .dataframe tbody tr th {\n",
       "        vertical-align: top;\n",
       "    }\n",
       "\n",
       "    .dataframe thead th {\n",
       "        text-align: right;\n",
       "    }\n",
       "</style>\n",
       "<table border=\"1\" class=\"dataframe\">\n",
       "  <thead>\n",
       "    <tr style=\"text-align: right;\">\n",
       "      <th></th>\n",
       "      <th>pelvic_incidence</th>\n",
       "      <th>pelvic_tilt</th>\n",
       "      <th>lumbar_lordosis_angle</th>\n",
       "      <th>sacral_slope</th>\n",
       "      <th>pelvic_radius</th>\n",
       "      <th>grade_of_spondylolisthesis</th>\n",
       "      <th>class_label</th>\n",
       "    </tr>\n",
       "  </thead>\n",
       "  <tbody>\n",
       "    <tr>\n",
       "      <th>0</th>\n",
       "      <td>63.03</td>\n",
       "      <td>22.55</td>\n",
       "      <td>39.61</td>\n",
       "      <td>40.48</td>\n",
       "      <td>98.67</td>\n",
       "      <td>-0.25</td>\n",
       "      <td>1</td>\n",
       "    </tr>\n",
       "    <tr>\n",
       "      <th>1</th>\n",
       "      <td>39.06</td>\n",
       "      <td>10.06</td>\n",
       "      <td>25.02</td>\n",
       "      <td>29.00</td>\n",
       "      <td>114.41</td>\n",
       "      <td>4.56</td>\n",
       "      <td>1</td>\n",
       "    </tr>\n",
       "    <tr>\n",
       "      <th>2</th>\n",
       "      <td>68.83</td>\n",
       "      <td>22.22</td>\n",
       "      <td>50.09</td>\n",
       "      <td>46.61</td>\n",
       "      <td>105.99</td>\n",
       "      <td>-3.53</td>\n",
       "      <td>1</td>\n",
       "    </tr>\n",
       "    <tr>\n",
       "      <th>3</th>\n",
       "      <td>69.30</td>\n",
       "      <td>24.65</td>\n",
       "      <td>44.31</td>\n",
       "      <td>44.64</td>\n",
       "      <td>101.87</td>\n",
       "      <td>11.21</td>\n",
       "      <td>1</td>\n",
       "    </tr>\n",
       "    <tr>\n",
       "      <th>4</th>\n",
       "      <td>49.71</td>\n",
       "      <td>9.65</td>\n",
       "      <td>28.32</td>\n",
       "      <td>40.06</td>\n",
       "      <td>108.17</td>\n",
       "      <td>7.92</td>\n",
       "      <td>1</td>\n",
       "    </tr>\n",
       "    <tr>\n",
       "      <th>...</th>\n",
       "      <td>...</td>\n",
       "      <td>...</td>\n",
       "      <td>...</td>\n",
       "      <td>...</td>\n",
       "      <td>...</td>\n",
       "      <td>...</td>\n",
       "      <td>...</td>\n",
       "    </tr>\n",
       "    <tr>\n",
       "      <th>135</th>\n",
       "      <td>77.12</td>\n",
       "      <td>30.35</td>\n",
       "      <td>77.48</td>\n",
       "      <td>46.77</td>\n",
       "      <td>110.61</td>\n",
       "      <td>82.09</td>\n",
       "      <td>1</td>\n",
       "    </tr>\n",
       "    <tr>\n",
       "      <th>136</th>\n",
       "      <td>88.02</td>\n",
       "      <td>39.84</td>\n",
       "      <td>81.77</td>\n",
       "      <td>48.18</td>\n",
       "      <td>116.60</td>\n",
       "      <td>56.77</td>\n",
       "      <td>1</td>\n",
       "    </tr>\n",
       "    <tr>\n",
       "      <th>137</th>\n",
       "      <td>83.40</td>\n",
       "      <td>34.31</td>\n",
       "      <td>78.42</td>\n",
       "      <td>49.09</td>\n",
       "      <td>110.47</td>\n",
       "      <td>49.67</td>\n",
       "      <td>1</td>\n",
       "    </tr>\n",
       "    <tr>\n",
       "      <th>138</th>\n",
       "      <td>72.05</td>\n",
       "      <td>24.70</td>\n",
       "      <td>79.87</td>\n",
       "      <td>47.35</td>\n",
       "      <td>107.17</td>\n",
       "      <td>56.43</td>\n",
       "      <td>1</td>\n",
       "    </tr>\n",
       "    <tr>\n",
       "      <th>139</th>\n",
       "      <td>85.10</td>\n",
       "      <td>21.07</td>\n",
       "      <td>91.73</td>\n",
       "      <td>64.03</td>\n",
       "      <td>109.06</td>\n",
       "      <td>38.03</td>\n",
       "      <td>1</td>\n",
       "    </tr>\n",
       "  </tbody>\n",
       "</table>\n",
       "<p>140 rows × 7 columns</p>\n",
       "</div>"
      ],
      "text/plain": [
       "     pelvic_incidence  pelvic_tilt  lumbar_lordosis_angle  sacral_slope  \\\n",
       "0               63.03        22.55                  39.61         40.48   \n",
       "1               39.06        10.06                  25.02         29.00   \n",
       "2               68.83        22.22                  50.09         46.61   \n",
       "3               69.30        24.65                  44.31         44.64   \n",
       "4               49.71         9.65                  28.32         40.06   \n",
       "..                ...          ...                    ...           ...   \n",
       "135             77.12        30.35                  77.48         46.77   \n",
       "136             88.02        39.84                  81.77         48.18   \n",
       "137             83.40        34.31                  78.42         49.09   \n",
       "138             72.05        24.70                  79.87         47.35   \n",
       "139             85.10        21.07                  91.73         64.03   \n",
       "\n",
       "     pelvic_radius  grade_of_spondylolisthesis class_label  \n",
       "0            98.67                       -0.25           1  \n",
       "1           114.41                        4.56           1  \n",
       "2           105.99                       -3.53           1  \n",
       "3           101.87                       11.21           1  \n",
       "4           108.17                        7.92           1  \n",
       "..             ...                         ...         ...  \n",
       "135         110.61                       82.09           1  \n",
       "136         116.60                       56.77           1  \n",
       "137         110.47                       49.67           1  \n",
       "138         107.17                       56.43           1  \n",
       "139         109.06                       38.03           1  \n",
       "\n",
       "[140 rows x 7 columns]"
      ]
     },
     "execution_count": 16,
     "metadata": {},
     "output_type": "execute_result"
    }
   ],
   "source": [
    "second_half_training"
   ]
  },
  {
   "cell_type": "code",
   "execution_count": 17,
   "metadata": {},
   "outputs": [
    {
     "data": {
      "text/html": [
       "<div>\n",
       "<style scoped>\n",
       "    .dataframe tbody tr th:only-of-type {\n",
       "        vertical-align: middle;\n",
       "    }\n",
       "\n",
       "    .dataframe tbody tr th {\n",
       "        vertical-align: top;\n",
       "    }\n",
       "\n",
       "    .dataframe thead th {\n",
       "        text-align: right;\n",
       "    }\n",
       "</style>\n",
       "<table border=\"1\" class=\"dataframe\">\n",
       "  <thead>\n",
       "    <tr style=\"text-align: right;\">\n",
       "      <th></th>\n",
       "      <th>pelvic_incidence</th>\n",
       "      <th>pelvic_tilt</th>\n",
       "      <th>lumbar_lordosis_angle</th>\n",
       "      <th>sacral_slope</th>\n",
       "      <th>pelvic_radius</th>\n",
       "      <th>grade_of_spondylolisthesis</th>\n",
       "      <th>class_label</th>\n",
       "    </tr>\n",
       "  </thead>\n",
       "  <tbody>\n",
       "    <tr>\n",
       "      <th>280</th>\n",
       "      <td>50.09</td>\n",
       "      <td>13.43</td>\n",
       "      <td>34.46</td>\n",
       "      <td>36.66</td>\n",
       "      <td>119.13</td>\n",
       "      <td>3.09</td>\n",
       "      <td>0</td>\n",
       "    </tr>\n",
       "    <tr>\n",
       "      <th>281</th>\n",
       "      <td>64.26</td>\n",
       "      <td>14.50</td>\n",
       "      <td>43.90</td>\n",
       "      <td>49.76</td>\n",
       "      <td>115.39</td>\n",
       "      <td>5.95</td>\n",
       "      <td>0</td>\n",
       "    </tr>\n",
       "    <tr>\n",
       "      <th>282</th>\n",
       "      <td>53.68</td>\n",
       "      <td>13.45</td>\n",
       "      <td>41.58</td>\n",
       "      <td>40.24</td>\n",
       "      <td>113.91</td>\n",
       "      <td>2.74</td>\n",
       "      <td>0</td>\n",
       "    </tr>\n",
       "    <tr>\n",
       "      <th>283</th>\n",
       "      <td>49.00</td>\n",
       "      <td>13.11</td>\n",
       "      <td>51.87</td>\n",
       "      <td>35.88</td>\n",
       "      <td>126.40</td>\n",
       "      <td>0.54</td>\n",
       "      <td>0</td>\n",
       "    </tr>\n",
       "    <tr>\n",
       "      <th>284</th>\n",
       "      <td>59.17</td>\n",
       "      <td>14.56</td>\n",
       "      <td>43.20</td>\n",
       "      <td>44.60</td>\n",
       "      <td>121.04</td>\n",
       "      <td>2.83</td>\n",
       "      <td>0</td>\n",
       "    </tr>\n",
       "    <tr>\n",
       "      <th>...</th>\n",
       "      <td>...</td>\n",
       "      <td>...</td>\n",
       "      <td>...</td>\n",
       "      <td>...</td>\n",
       "      <td>...</td>\n",
       "      <td>...</td>\n",
       "      <td>...</td>\n",
       "    </tr>\n",
       "    <tr>\n",
       "      <th>205</th>\n",
       "      <td>80.11</td>\n",
       "      <td>33.94</td>\n",
       "      <td>85.10</td>\n",
       "      <td>46.17</td>\n",
       "      <td>125.59</td>\n",
       "      <td>100.29</td>\n",
       "      <td>1</td>\n",
       "    </tr>\n",
       "    <tr>\n",
       "      <th>206</th>\n",
       "      <td>95.48</td>\n",
       "      <td>46.55</td>\n",
       "      <td>59.00</td>\n",
       "      <td>48.93</td>\n",
       "      <td>96.68</td>\n",
       "      <td>77.28</td>\n",
       "      <td>1</td>\n",
       "    </tr>\n",
       "    <tr>\n",
       "      <th>207</th>\n",
       "      <td>74.09</td>\n",
       "      <td>18.82</td>\n",
       "      <td>76.03</td>\n",
       "      <td>55.27</td>\n",
       "      <td>128.41</td>\n",
       "      <td>73.39</td>\n",
       "      <td>1</td>\n",
       "    </tr>\n",
       "    <tr>\n",
       "      <th>208</th>\n",
       "      <td>87.68</td>\n",
       "      <td>20.37</td>\n",
       "      <td>93.82</td>\n",
       "      <td>67.31</td>\n",
       "      <td>120.94</td>\n",
       "      <td>76.73</td>\n",
       "      <td>1</td>\n",
       "    </tr>\n",
       "    <tr>\n",
       "      <th>209</th>\n",
       "      <td>48.26</td>\n",
       "      <td>16.42</td>\n",
       "      <td>36.33</td>\n",
       "      <td>31.84</td>\n",
       "      <td>94.88</td>\n",
       "      <td>28.34</td>\n",
       "      <td>1</td>\n",
       "    </tr>\n",
       "  </tbody>\n",
       "</table>\n",
       "<p>100 rows × 7 columns</p>\n",
       "</div>"
      ],
      "text/plain": [
       "     pelvic_incidence  pelvic_tilt  lumbar_lordosis_angle  sacral_slope  \\\n",
       "280             50.09        13.43                  34.46         36.66   \n",
       "281             64.26        14.50                  43.90         49.76   \n",
       "282             53.68        13.45                  41.58         40.24   \n",
       "283             49.00        13.11                  51.87         35.88   \n",
       "284             59.17        14.56                  43.20         44.60   \n",
       "..                ...          ...                    ...           ...   \n",
       "205             80.11        33.94                  85.10         46.17   \n",
       "206             95.48        46.55                  59.00         48.93   \n",
       "207             74.09        18.82                  76.03         55.27   \n",
       "208             87.68        20.37                  93.82         67.31   \n",
       "209             48.26        16.42                  36.33         31.84   \n",
       "\n",
       "     pelvic_radius  grade_of_spondylolisthesis class_label  \n",
       "280         119.13                        3.09           0  \n",
       "281         115.39                        5.95           0  \n",
       "282         113.91                        2.74           0  \n",
       "283         126.40                        0.54           0  \n",
       "284         121.04                        2.83           0  \n",
       "..             ...                         ...         ...  \n",
       "205         125.59                      100.29           1  \n",
       "206          96.68                       77.28           1  \n",
       "207         128.41                       73.39           1  \n",
       "208         120.94                       76.73           1  \n",
       "209          94.88                       28.34           1  \n",
       "\n",
       "[100 rows x 7 columns]"
      ]
     },
     "execution_count": 17,
     "metadata": {},
     "output_type": "execute_result"
    }
   ],
   "source": [
    "test_data"
   ]
  },
  {
   "cell_type": "code",
   "execution_count": 18,
   "metadata": {
    "scrolled": true
   },
   "outputs": [
    {
     "data": {
      "text/html": [
       "<div>\n",
       "<style scoped>\n",
       "    .dataframe tbody tr th:only-of-type {\n",
       "        vertical-align: middle;\n",
       "    }\n",
       "\n",
       "    .dataframe tbody tr th {\n",
       "        vertical-align: top;\n",
       "    }\n",
       "\n",
       "    .dataframe thead th {\n",
       "        text-align: right;\n",
       "    }\n",
       "</style>\n",
       "<table border=\"1\" class=\"dataframe\">\n",
       "  <thead>\n",
       "    <tr style=\"text-align: right;\">\n",
       "      <th></th>\n",
       "      <th>pelvic_incidence</th>\n",
       "      <th>pelvic_tilt</th>\n",
       "      <th>lumbar_lordosis_angle</th>\n",
       "      <th>sacral_slope</th>\n",
       "      <th>pelvic_radius</th>\n",
       "      <th>grade_of_spondylolisthesis</th>\n",
       "      <th>class_label</th>\n",
       "    </tr>\n",
       "  </thead>\n",
       "  <tbody>\n",
       "    <tr>\n",
       "      <th>210</th>\n",
       "      <td>38.51</td>\n",
       "      <td>16.96</td>\n",
       "      <td>35.11</td>\n",
       "      <td>21.54</td>\n",
       "      <td>127.63</td>\n",
       "      <td>7.99</td>\n",
       "      <td>0</td>\n",
       "    </tr>\n",
       "    <tr>\n",
       "      <th>211</th>\n",
       "      <td>54.92</td>\n",
       "      <td>18.97</td>\n",
       "      <td>51.60</td>\n",
       "      <td>35.95</td>\n",
       "      <td>125.85</td>\n",
       "      <td>2.00</td>\n",
       "      <td>0</td>\n",
       "    </tr>\n",
       "    <tr>\n",
       "      <th>212</th>\n",
       "      <td>44.36</td>\n",
       "      <td>8.95</td>\n",
       "      <td>46.90</td>\n",
       "      <td>35.42</td>\n",
       "      <td>129.22</td>\n",
       "      <td>4.99</td>\n",
       "      <td>0</td>\n",
       "    </tr>\n",
       "    <tr>\n",
       "      <th>213</th>\n",
       "      <td>48.32</td>\n",
       "      <td>17.45</td>\n",
       "      <td>48.00</td>\n",
       "      <td>30.87</td>\n",
       "      <td>128.98</td>\n",
       "      <td>-0.91</td>\n",
       "      <td>0</td>\n",
       "    </tr>\n",
       "    <tr>\n",
       "      <th>214</th>\n",
       "      <td>45.70</td>\n",
       "      <td>10.66</td>\n",
       "      <td>42.58</td>\n",
       "      <td>35.04</td>\n",
       "      <td>130.18</td>\n",
       "      <td>-3.39</td>\n",
       "      <td>0</td>\n",
       "    </tr>\n",
       "    <tr>\n",
       "      <th>...</th>\n",
       "      <td>...</td>\n",
       "      <td>...</td>\n",
       "      <td>...</td>\n",
       "      <td>...</td>\n",
       "      <td>...</td>\n",
       "      <td>...</td>\n",
       "      <td>...</td>\n",
       "    </tr>\n",
       "    <tr>\n",
       "      <th>135</th>\n",
       "      <td>77.12</td>\n",
       "      <td>30.35</td>\n",
       "      <td>77.48</td>\n",
       "      <td>46.77</td>\n",
       "      <td>110.61</td>\n",
       "      <td>82.09</td>\n",
       "      <td>1</td>\n",
       "    </tr>\n",
       "    <tr>\n",
       "      <th>136</th>\n",
       "      <td>88.02</td>\n",
       "      <td>39.84</td>\n",
       "      <td>81.77</td>\n",
       "      <td>48.18</td>\n",
       "      <td>116.60</td>\n",
       "      <td>56.77</td>\n",
       "      <td>1</td>\n",
       "    </tr>\n",
       "    <tr>\n",
       "      <th>137</th>\n",
       "      <td>83.40</td>\n",
       "      <td>34.31</td>\n",
       "      <td>78.42</td>\n",
       "      <td>49.09</td>\n",
       "      <td>110.47</td>\n",
       "      <td>49.67</td>\n",
       "      <td>1</td>\n",
       "    </tr>\n",
       "    <tr>\n",
       "      <th>138</th>\n",
       "      <td>72.05</td>\n",
       "      <td>24.70</td>\n",
       "      <td>79.87</td>\n",
       "      <td>47.35</td>\n",
       "      <td>107.17</td>\n",
       "      <td>56.43</td>\n",
       "      <td>1</td>\n",
       "    </tr>\n",
       "    <tr>\n",
       "      <th>139</th>\n",
       "      <td>85.10</td>\n",
       "      <td>21.07</td>\n",
       "      <td>91.73</td>\n",
       "      <td>64.03</td>\n",
       "      <td>109.06</td>\n",
       "      <td>38.03</td>\n",
       "      <td>1</td>\n",
       "    </tr>\n",
       "  </tbody>\n",
       "</table>\n",
       "<p>210 rows × 7 columns</p>\n",
       "</div>"
      ],
      "text/plain": [
       "     pelvic_incidence  pelvic_tilt  lumbar_lordosis_angle  sacral_slope  \\\n",
       "210             38.51        16.96                  35.11         21.54   \n",
       "211             54.92        18.97                  51.60         35.95   \n",
       "212             44.36         8.95                  46.90         35.42   \n",
       "213             48.32        17.45                  48.00         30.87   \n",
       "214             45.70        10.66                  42.58         35.04   \n",
       "..                ...          ...                    ...           ...   \n",
       "135             77.12        30.35                  77.48         46.77   \n",
       "136             88.02        39.84                  81.77         48.18   \n",
       "137             83.40        34.31                  78.42         49.09   \n",
       "138             72.05        24.70                  79.87         47.35   \n",
       "139             85.10        21.07                  91.73         64.03   \n",
       "\n",
       "     pelvic_radius  grade_of_spondylolisthesis class_label  \n",
       "210         127.63                        7.99           0  \n",
       "211         125.85                        2.00           0  \n",
       "212         129.22                        4.99           0  \n",
       "213         128.98                       -0.91           0  \n",
       "214         130.18                       -3.39           0  \n",
       "..             ...                         ...         ...  \n",
       "135         110.61                       82.09           1  \n",
       "136         116.60                       56.77           1  \n",
       "137         110.47                       49.67           1  \n",
       "138         107.17                       56.43           1  \n",
       "139         109.06                       38.03           1  \n",
       "\n",
       "[210 rows x 7 columns]"
      ]
     },
     "execution_count": 18,
     "metadata": {},
     "output_type": "execute_result"
    }
   ],
   "source": [
    "training_data"
   ]
  },
  {
   "cell_type": "code",
   "execution_count": 19,
   "metadata": {},
   "outputs": [],
   "source": [
    "xtrain = training_data.iloc[:,:-1].astype('float')\n",
    "ytrain = training_data.iloc[:,-1].astype('float')\n",
    "\n",
    "xtest = test_data.iloc[:,:-1].astype('float')\n",
    "ytest = test_data.iloc[:,-1].astype('float')"
   ]
  },
  {
   "cell_type": "code",
   "execution_count": 20,
   "metadata": {},
   "outputs": [],
   "source": [
    "from sklearn.neighbors import KNeighborsClassifier,NearestNeighbors"
   ]
  },
  {
   "cell_type": "code",
   "execution_count": 21,
   "metadata": {},
   "outputs": [],
   "source": [
    "#Sklearn\n",
    "from sklearn.metrics import accuracy_score,mean_squared_error,confusion_matrix,classification_report\n"
   ]
  },
  {
   "cell_type": "markdown",
   "metadata": {},
   "source": [
    "### (c) Classification"
   ]
  },
  {
   "cell_type": "markdown",
   "metadata": {},
   "source": [
    "#### i. Euclidean Metric"
   ]
  },
  {
   "cell_type": "code",
   "execution_count": 22,
   "metadata": {},
   "outputs": [
    {
     "data": {
      "text/plain": [
       "0.92"
      ]
     },
     "execution_count": 22,
     "metadata": {},
     "output_type": "execute_result"
    }
   ],
   "source": [
    "\n",
    "#Running the KNN For a test value of K=3 with the Eucliden Metric\n",
    "z=KNeighborsClassifier(n_neighbors=3)\n",
    "z.fit(xtrain,ytrain)\n",
    "preds = z.predict(xtest)\n",
    "s = accuracy_score(ytest,preds)\n",
    "s"
   ]
  },
  {
   "cell_type": "markdown",
   "metadata": {},
   "source": [
    "accuracy for KNN implementation where K=3 is 0.92, and MIN error = 0.08"
   ]
  },
  {
   "cell_type": "markdown",
   "metadata": {},
   "source": [
    "#### ii. Test Data"
   ]
  },
  {
   "cell_type": "code",
   "execution_count": 23,
   "metadata": {},
   "outputs": [
    {
     "name": "stdout",
     "output_type": "stream",
     "text": [
      "0.94 K value is  4\n",
      "MIN ERROR IS 0.06\n"
     ]
    }
   ],
   "source": [
    "def findOptimalK():\n",
    "    maxAccuracy = 0\n",
    "    error = 1\n",
    "    hmap={}\n",
    "    bb={}\n",
    "    accArray=[]\n",
    "    for i in range(208,0,-3):\n",
    "        knn= KNeighborsClassifier(n_neighbors=i)\n",
    "        knn.fit(xtrain,ytrain)\n",
    "        y_pred = knn.predict(xtest)\n",
    "        acc = accuracy_score(ytest,y_pred)\n",
    "        accArray.append(acc)\n",
    "        mse = mean_squared_error(ytest,y_pred)\n",
    "        hmap[acc] = i\n",
    "        bb[mse]=i\n",
    "        maxAccuracy = max(maxAccuracy,acc)\n",
    "        error=min(mse,error)\n",
    "    print(maxAccuracy, 'K value is ', hmap[maxAccuracy])\n",
    "    print('MIN ERROR IS', error, )\n",
    "findOptimalK()"
   ]
  },
  {
   "cell_type": "markdown",
   "metadata": {},
   "source": [
    "Optimal Value of K=4, and Error is 0.06"
   ]
  },
  {
   "cell_type": "code",
   "execution_count": 24,
   "metadata": {},
   "outputs": [
    {
     "data": {
      "text/plain": [
       "array([[25,  5],\n",
       "       [ 1, 69]], dtype=int64)"
      ]
     },
     "execution_count": 24,
     "metadata": {},
     "output_type": "execute_result"
    }
   ],
   "source": [
    "#Confusion Martix for optimal value of K=4\n",
    "knn4 = KNeighborsClassifier(n_neighbors=4)\n",
    "knn4.fit(xtrain,ytrain)\n",
    "yPred4 = knn4.predict(xtest)\n",
    "\n",
    "confMatrix = confusion_matrix(ytest,yPred4)\n",
    "confMatrix"
   ]
  },
  {
   "cell_type": "code",
   "execution_count": 25,
   "metadata": {},
   "outputs": [
    {
     "name": "stdout",
     "output_type": "stream",
     "text": [
      "              precision    recall  f1-score   support\n",
      "\n",
      "         0.0       0.96      0.83      0.89        30\n",
      "         1.0       0.93      0.99      0.96        70\n",
      "\n",
      "    accuracy                           0.94       100\n",
      "   macro avg       0.95      0.91      0.93       100\n",
      "weighted avg       0.94      0.94      0.94       100\n",
      "\n"
     ]
    }
   ],
   "source": [
    "#F1-Score and precision value for K=4\n",
    "print(classification_report(ytest,yPred4))"
   ]
  },
  {
   "cell_type": "code",
   "execution_count": 26,
   "metadata": {},
   "outputs": [],
   "source": [
    "import numpy as np\n",
    "import math"
   ]
  },
  {
   "cell_type": "code",
   "execution_count": 27,
   "metadata": {},
   "outputs": [
    {
     "data": {
      "image/png": "[encoded data removed]",
      "text/plain": [
       "<Figure size 432x288 with 1 Axes>"
      ]
     },
     "metadata": {
      "needs_background": "light"
     },
     "output_type": "display_data"
    }
   ],
   "source": [
    "trainAccArray=[]\n",
    "testAccArray=[]\n",
    "for i in range(208,0,-3):\n",
    "    model = KNeighborsClassifier(n_neighbors=i)\n",
    "    model.fit(xtrain,ytrain)\n",
    "    testAccArray.append(1-model.score(xtest,ytest))\n",
    "    trainAccArray.append(1-model.score(xtrain,ytrain))\n",
    "neighbors=np.arange(208,0,-3)\n",
    "\n",
    "plt.title('k-NN: Varying Number of Neighbors')\n",
    "plt.plot(neighbors, trainAccArray, label = 'Training Accuracy')\n",
    "plt.plot(neighbors, testAccArray, label = 'Testing Accuracy')\n",
    "plt.legend()\n",
    "plt.gca().invert_xaxis()\n",
    "plt.xlabel('Number of Neighbors')\n",
    "plt.ylabel('Error')\n",
    "plt.show()\n"
   ]
  },
  {
   "cell_type": "code",
   "execution_count": 28,
   "metadata": {},
   "outputs": [
    {
     "data": {
      "text/plain": [
       "(0.9857142857142858, 0.8333333333333334)"
      ]
     },
     "execution_count": 28,
     "metadata": {},
     "output_type": "execute_result"
    }
   ],
   "source": [
    "#Calculate TP & TN\n",
    "tp = confMatrix[1,1]/(confMatrix[1,1]+confMatrix[1,0])\n",
    "tn = confMatrix[0,0]/(confMatrix[0,0]+confMatrix[0,1])\n",
    "tp,tn"
   ]
  },
  {
   "cell_type": "markdown",
   "metadata": {},
   "source": [
    "Here, True Positive is 0.9857142857142858 and True Negative is 0.8333333333333334"
   ]
  },
  {
   "cell_type": "markdown",
   "metadata": {},
   "source": [
    "#### iii. Learning Curve"
   ]
  },
  {
   "cell_type": "code",
   "execution_count": 29,
   "metadata": {},
   "outputs": [
    {
     "name": "stdout",
     "output_type": "stream",
     "text": [
      "Most Suitable K for learning curve question: 6\n"
     ]
    }
   ],
   "source": [
    "testingError = []\n",
    "# neighbors=np.arange(10,211,10)\n",
    "for i in range(10,211,10):\n",
    "    bloo=math.floor(i/3)\n",
    "    xtrain_0=first_half_training.head(bloo)\n",
    "    xtrain_1=second_half_training.head(i-bloo)\n",
    "    finalTraining=pd.concat((xtrain_0,xtrain_1))\n",
    "    xtrain_LC=finalTraining.iloc[:,:-1].astype('int')\n",
    "    ytrain_LC=finalTraining.iloc[:,-1].astype('int')\n",
    "    max_acc=0\n",
    "    k=0\n",
    "    for j in range(1,197,5):\n",
    "        if(j<i):\n",
    "            knn = KNeighborsClassifier(n_neighbors=j)\n",
    "            knn.fit(xtrain_LC, ytrain_LC)\n",
    "            y_pred = knn.predict(xtest)\n",
    "            acc2=accuracy_score(ytest, y_pred)\n",
    "            if(acc2>max_acc):\n",
    "                max_acc=acc2\n",
    "                k=j\n",
    "    testingError.append(1-max_acc)\n",
    "# print(\"Accuracy:\",max_acc)\n",
    "print(\"Most Suitable K for learning curve question:\",k)"
   ]
  },
  {
   "cell_type": "markdown",
   "metadata": {},
   "source": [
    "Optimal value of K for learning curve is k* is 6"
   ]
  },
  {
   "cell_type": "code",
   "execution_count": 30,
   "metadata": {},
   "outputs": [
    {
     "data": {
      "text/plain": [
       "Text(0, 0.5, 'Test Errors')"
      ]
     },
     "execution_count": 30,
     "metadata": {},
     "output_type": "execute_result"
    },
    {
     "data": {
      "image/png": "[encoded data removed]",
      "text/plain": [
       "<Figure size 1296x576 with 1 Axes>"
      ]
     },
     "metadata": {
      "needs_background": "light"
     },
     "output_type": "display_data"
    }
   ],
   "source": [
    "#Learning curve graph\n",
    "plt.figure(figsize=(18, 8))\n",
    "plt.plot(range(10, 211, 10), testingError, color='red', linestyle='dashed', marker='o',\n",
    "         markerfacecolor='green', markersize=7)\n",
    "plt.title('N Values and Best Test Error Rate')\n",
    "plt.xlabel('N Values')\n",
    "plt.ylabel('Test Errors')"
   ]
  },
  {
   "cell_type": "markdown",
   "metadata": {},
   "source": [
    "### (d) Other Metrics"
   ]
  },
  {
   "cell_type": "markdown",
   "metadata": {},
   "source": [
    "#### i. Minkowski Distance."
   ]
  },
  {
   "cell_type": "markdown",
   "metadata": {},
   "source": [
    "##### A. Manhattan Distance with p = 1."
   ]
  },
  {
   "cell_type": "code",
   "execution_count": 31,
   "metadata": {},
   "outputs": [
    {
     "name": "stdout",
     "output_type": "stream",
     "text": [
      "MIN ERROR FOR MANHATTAN is 0.10999999999999999 and k* value is 6\n"
     ]
    }
   ],
   "source": [
    "#TRYING OTHER DISTANCE METRICS\n",
    "\n",
    "#BEST K FOR MANHATTAN DISTANCE, P=1\n",
    "scoreTracker={}\n",
    "maxVal=0\n",
    "kk=0\n",
    "for k in range(1,197,5):\n",
    "    p=1\n",
    "    model = KNeighborsClassifier(n_neighbors=k, p=p, metric='manhattan')\n",
    "    model.fit(xtrain,ytrain)\n",
    "    results = model.predict(xtest)\n",
    "    score = accuracy_score(ytest,results)\n",
    "    scoreTracker[score] = k\n",
    "#     maxVal = max(maxVal,score)\n",
    "    if score>maxVal:\n",
    "        kk=k\n",
    "        maxVal=score\n",
    "#     print(f'ACCURACY FOR K: {k} - {score}')\n",
    "mann=1-maxVal\n",
    "print(f'MIN ERROR FOR MANHATTAN is {1-maxVal} and k* value is {kk}')"
   ]
  },
  {
   "cell_type": "markdown",
   "metadata": {},
   "source": [
    "##### B. With log10(p) in {0.1, 0.2, 0.3, ... ,1}."
   ]
  },
  {
   "cell_type": "code",
   "execution_count": 32,
   "metadata": {},
   "outputs": [
    {
     "name": "stdout",
     "output_type": "stream",
     "text": [
      "FINAL MIN ERROR for minkowski is 0.06000000000000005, and value of FINAL P is: 0.6 for given K* =6\n"
     ]
    }
   ],
   "source": [
    "#BEST K FOR MINKOWSKI DISTANCE, P=0.1,0.2,0.3.   \n",
    "maxVal=0\n",
    "logMaxVal=0\n",
    "pTracker = {}\n",
    "i=0.1\n",
    "while i<=1:\n",
    "    pp=pow(10,i)\n",
    "    ml = KNeighborsClassifier(n_neighbors=6, p=pp,metric='minkowski')\n",
    "    ml.fit(xtrain,ytrain)\n",
    "    results = ml.predict(xtest)\n",
    "    score = accuracy_score(ytest,results)\n",
    "    pTracker[score]=i\n",
    "    maxVal = max(maxVal,score)\n",
    "    i+=0.1\n",
    "logMaxVal=1-maxVal\n",
    "print(f'FINAL MIN ERROR for minkowski is {1-maxVal}, and value of FINAL P is: {pTracker[maxVal]} for given K* =6')"
   ]
  },
  {
   "cell_type": "markdown",
   "metadata": {},
   "source": [
    "##### C. Chebyshev Distance With p -> infinity."
   ]
  },
  {
   "cell_type": "code",
   "execution_count": 33,
   "metadata": {},
   "outputs": [
    {
     "name": "stdout",
     "output_type": "stream",
     "text": [
      "MIN ERRROR FOR CHEBYSHEV is 0.07999999999999996 and k value is 16\n"
     ]
    }
   ],
   "source": [
    "#Trying other distance Metrics\n",
    "\n",
    "scoreTracker={}\n",
    "maxVal=0\n",
    "for k in range(1,197,5):\n",
    "    model = KNeighborsClassifier(n_neighbors=k, metric='chebyshev', n_jobs=-1)\n",
    "    model.fit(xtrain,ytrain)\n",
    "    results = model.predict(xtest)\n",
    "    score = accuracy_score(ytest,results)\n",
    "    scoreTracker[score] = k\n",
    "    maxVal = max(maxVal,score)\n",
    "chebyyy=1-maxVal\n",
    "print(f'MIN ERRROR FOR CHEBYSHEV is {1-maxVal} and k value is {scoreTracker[maxVal]}')"
   ]
  },
  {
   "cell_type": "markdown",
   "metadata": {},
   "source": [
    "#### ii. Mahalanobis Distance."
   ]
  },
  {
   "cell_type": "code",
   "execution_count": 34,
   "metadata": {},
   "outputs": [
    {
     "name": "stdout",
     "output_type": "stream",
     "text": [
      "MINERROR for MAHALANOBIS: 0.17000000000000004 and k is 1\n"
     ]
    }
   ],
   "source": [
    "scoreTracker={}\n",
    "maxVal=0\n",
    "kk=0\n",
    "for k in range(1,197,5):\n",
    "    model = KNeighborsClassifier(n_neighbors=k,\n",
    "                                 metric_params={'VI': np.linalg.inv(np.cov(xtrain.T))},\n",
    "                             metric='mahalanobis')\n",
    "    model.fit(xtrain,ytrain)\n",
    "    results = model.predict(xtest)\n",
    "    score = accuracy_score(ytest,results)\n",
    "    scoreTracker[score] = k\n",
    "    if score>maxVal:\n",
    "        kk=k\n",
    "        maxVal=score\n",
    "mahalaError=1-maxVal\n",
    "print(f'MINERROR for MAHALANOBIS: {1-maxVal} and k is {kk}')"
   ]
  },
  {
   "cell_type": "markdown",
   "metadata": {},
   "source": [
    "### (e) Weighted Decision"
   ]
  },
  {
   "cell_type": "code",
   "execution_count": 35,
   "metadata": {},
   "outputs": [
    {
     "name": "stdout",
     "output_type": "stream",
     "text": [
      "MIN ERROR WEIGHTED DISTANCE EUCLIDEAN is 0.09999999999999998 and k value is 6\n",
      "MIN ERROR WEIGHTED DISTANCE CHEBYSHEV is 0.10999999999999999 and k value is 16\n",
      "MIN ERROR WEIGHTED DISTANCE MANHATTAN is 0.09999999999999998 and k value is 26\n"
     ]
    }
   ],
   "source": [
    "#Weighted polling\n",
    "\n",
    "#Euclidean\n",
    "def euclidean():\n",
    "    scoreTracker={}\n",
    "    maxVal=0\n",
    "    kk=0\n",
    "    for k in range(1,197,5):\n",
    "        model = KNeighborsClassifier(n_neighbors=k\n",
    "                                 ,weights='distance')\n",
    "        model.fit(xtrain,ytrain)\n",
    "        results = model.predict(xtest)\n",
    "        score = accuracy_score(ytest,results)\n",
    "        scoreTracker[score] = k\n",
    "        if score>maxVal:\n",
    "            maxVal=score\n",
    "            kk=k\n",
    "    print(f'MIN ERROR WEIGHTED DISTANCE EUCLIDEAN is {1-maxVal} and k value is {kk}')\n",
    "    return (maxVal,scoreTracker[maxVal])\n",
    "\n",
    "\n",
    "#Chebyshev\n",
    "def cheby():\n",
    "    scoreTracker={}\n",
    "    maxVal=0\n",
    "    kk=0\n",
    "    for k in range(1,197,5):\n",
    "        model = KNeighborsClassifier(n_neighbors=k,\n",
    "                                 metric='chebyshev',weights='distance')\n",
    "        model.fit(xtrain,ytrain)\n",
    "        results = model.predict(xtest)\n",
    "        score = accuracy_score(ytest,results)\n",
    "        scoreTracker[score] = k\n",
    "        if score>maxVal:\n",
    "            maxVal=score\n",
    "            kk=k\n",
    "    print(f'MIN ERROR WEIGHTED DISTANCE CHEBYSHEV is {1-maxVal} and k value is {kk}')\n",
    "    return (maxVal,scoreTracker[maxVal])\n",
    "\n",
    "#Manhattan\n",
    "def man():\n",
    "    scoreTracker={}\n",
    "    maxVal=0\n",
    "    kk=0\n",
    "    for k in range(1,197,5):\n",
    "        model = KNeighborsClassifier(n_neighbors=k,p=1,\n",
    "                                 metric='manhattan',weights='distance')\n",
    "        model.fit(xtrain,ytrain)\n",
    "        results = model.predict(xtest)\n",
    "        score = accuracy_score(ytest,results)\n",
    "        scoreTracker[score] = k\n",
    "        if score>maxVal:\n",
    "            maxVal=score\n",
    "            kk=k\n",
    "    print(f'MIN ERROR WEIGHTED DISTANCE MANHATTAN is {1-maxVal} and k value is {kk}')\n",
    "    return (maxVal,scoreTracker[maxVal])\n",
    "(maxVal1,k1)=euclidean()\n",
    "(maxVal2,k2)=cheby()\n",
    "(maxVal3,k3)=man()\n"
   ]
  },
  {
   "cell_type": "code",
   "execution_count": 36,
   "metadata": {},
   "outputs": [
    {
     "data": {
      "text/html": [
       "<div>\n",
       "<style scoped>\n",
       "    .dataframe tbody tr th:only-of-type {\n",
       "        vertical-align: middle;\n",
       "    }\n",
       "\n",
       "    .dataframe tbody tr th {\n",
       "        vertical-align: top;\n",
       "    }\n",
       "\n",
       "    .dataframe thead th {\n",
       "        text-align: right;\n",
       "    }\n",
       "</style>\n",
       "<table border=\"1\" class=\"dataframe\">\n",
       "  <thead>\n",
       "    <tr style=\"text-align: right;\">\n",
       "      <th></th>\n",
       "      <th>Distance_Metrics</th>\n",
       "      <th>Best Test errors are</th>\n",
       "    </tr>\n",
       "  </thead>\n",
       "  <tbody>\n",
       "    <tr>\n",
       "      <th>0</th>\n",
       "      <td>Manhattan_Distance_p=1</td>\n",
       "      <td>0.11</td>\n",
       "    </tr>\n",
       "    <tr>\n",
       "      <th>1</th>\n",
       "      <td>Mahahattan_Distance_log10p</td>\n",
       "      <td>0.06</td>\n",
       "    </tr>\n",
       "    <tr>\n",
       "      <th>2</th>\n",
       "      <td>Chebyshev_Distance</td>\n",
       "      <td>0.08</td>\n",
       "    </tr>\n",
       "    <tr>\n",
       "      <th>3</th>\n",
       "      <td>Mahalanobis_Distance</td>\n",
       "      <td>0.17</td>\n",
       "    </tr>\n",
       "  </tbody>\n",
       "</table>\n",
       "</div>"
      ],
      "text/plain": [
       "             Distance_Metrics  Best Test errors are\n",
       "0      Manhattan_Distance_p=1                  0.11\n",
       "1  Mahahattan_Distance_log10p                  0.06\n",
       "2          Chebyshev_Distance                  0.08\n",
       "3        Mahalanobis_Distance                  0.17"
      ]
     },
     "execution_count": 36,
     "metadata": {},
     "output_type": "execute_result"
    }
   ],
   "source": [
    "metricTable={'Distance_Metrics':['Manhattan_Distance_p=1', 'Mahahattan_Distance_log10p', \n",
    "                                 'Chebyshev_Distance', 'Mahalanobis_Distance'], \n",
    "             'Best Test errors are':[mann,logMaxVal,chebyyy,mahalaError]}\n",
    "df1 = pd.DataFrame(data=metricTable)\n",
    "df1"
   ]
  },
  {
   "cell_type": "code",
   "execution_count": 37,
   "metadata": {},
   "outputs": [
    {
     "data": {
      "text/html": [
       "<div>\n",
       "<style scoped>\n",
       "    .dataframe tbody tr th:only-of-type {\n",
       "        vertical-align: middle;\n",
       "    }\n",
       "\n",
       "    .dataframe tbody tr th {\n",
       "        vertical-align: top;\n",
       "    }\n",
       "\n",
       "    .dataframe thead th {\n",
       "        text-align: right;\n",
       "    }\n",
       "</style>\n",
       "<table border=\"1\" class=\"dataframe\">\n",
       "  <thead>\n",
       "    <tr style=\"text-align: right;\">\n",
       "      <th></th>\n",
       "      <th>Distance_Metrics for weighted distance</th>\n",
       "      <th>Best Test errors are</th>\n",
       "    </tr>\n",
       "  </thead>\n",
       "  <tbody>\n",
       "    <tr>\n",
       "      <th>0</th>\n",
       "      <td>Euclidean</td>\n",
       "      <td>0.10</td>\n",
       "    </tr>\n",
       "    <tr>\n",
       "      <th>1</th>\n",
       "      <td>Chebyshev</td>\n",
       "      <td>0.11</td>\n",
       "    </tr>\n",
       "    <tr>\n",
       "      <th>2</th>\n",
       "      <td>Manhattan</td>\n",
       "      <td>0.10</td>\n",
       "    </tr>\n",
       "  </tbody>\n",
       "</table>\n",
       "</div>"
      ],
      "text/plain": [
       "  Distance_Metrics for weighted distance  Best Test errors are\n",
       "0                              Euclidean                  0.10\n",
       "1                              Chebyshev                  0.11\n",
       "2                              Manhattan                  0.10"
      ]
     },
     "execution_count": 37,
     "metadata": {},
     "output_type": "execute_result"
    }
   ],
   "source": [
    "metricTable2={'Distance_Metrics for weighted distance':['Euclidean', 'Chebyshev', \n",
    "                                 'Manhattan'], \n",
    "             'Best Test errors are':[1-maxVal1,1-maxVal2,1-maxVal3]}\n",
    "df2 = pd.DataFrame(data=metricTable2)\n",
    "df2"
   ]
  },
  {
   "cell_type": "markdown",
   "metadata": {},
   "source": [
    "### (f) Training Error Rate"
   ]
  },
  {
   "cell_type": "markdown",
   "metadata": {},
   "source": [
    "If we predict results on the same data we trained the model on we get the lowest training error rate of 0. The best training error rate is achieved here which is 0.0"
   ]
  },
  {
   "cell_type": "code",
   "execution_count": 38,
   "metadata": {},
   "outputs": [],
   "source": [
    "#pip freeze > requirements.txt"
   ]
  }
 ],
 "metadata": {
  "kernelspec": {
   "display_name": "Python 3",
   "language": "python",
   "name": "python3"
  },
  "language_info": {
   "codemirror_mode": {
    "name": "ipython",
    "version": 3
   },
   "file_extension": ".py",
   "mimetype": "text/x-python",
   "name": "python",
   "nbconvert_exporter": "python",
   "pygments_lexer": "ipython3",
   "version": "3.8.3"
  },
  "toc": {
   "base_numbering": 1,
   "nav_menu": {},
   "number_sections": true,
   "sideBar": true,
   "skip_h1_title": true,
   "title_cell": "Table of Contents",
   "title_sidebar": "Contents",
   "toc_cell": false,
   "toc_position": {
    "height": "calc(100% - 180px)",
    "left": "10px",
    "top": "150px",
    "width": "294.435px"
   },
   "toc_section_display": true,
   "toc_window_display": true
  }
 },
 "nbformat": 4,
 "nbformat_minor": 4
}
